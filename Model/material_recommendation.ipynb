{
  "cells": [
    {
      "cell_type": "markdown",
      "id": "a3dd04f3-76f5-41e2-b7cf-5efb130f7622",
      "metadata": {
        "id": "a3dd04f3-76f5-41e2-b7cf-5efb130f7622"
      },
      "source": [
        "# REKOMENDASI MATERI BERDASARKAN BANYAKNYA KESALAHAN USER SAAT MENJAWAB SOAL"
      ]
    },
    {
      "cell_type": "markdown",
      "id": "5e6fb8c2-0df4-40e3-acb6-87dfde1ba53c",
      "metadata": {
        "id": "5e6fb8c2-0df4-40e3-acb6-87dfde1ba53c"
      },
      "source": [
        "### IMPORT LIBRARY"
      ]
    },
    {
      "cell_type": "code",
      "source": [
        "!pip install keras-tuner\n"
      ],
      "metadata": {
        "colab": {
          "base_uri": "https://localhost:8080/"
        },
        "id": "hRBZojWSCD3i",
        "outputId": "cc969e07-e106-4e0c-ee33-c462c83b30e6",
        "collapsed": true
      },
      "id": "hRBZojWSCD3i",
      "execution_count": null,
      "outputs": [
        {
          "output_type": "stream",
          "name": "stdout",
          "text": [
            "Collecting keras-tuner\n",
            "  Downloading keras_tuner-1.4.7-py3-none-any.whl.metadata (5.4 kB)\n",
            "Requirement already satisfied: keras in /usr/local/lib/python3.10/dist-packages (from keras-tuner) (3.5.0)\n",
            "Requirement already satisfied: packaging in /usr/local/lib/python3.10/dist-packages (from keras-tuner) (24.2)\n",
            "Requirement already satisfied: requests in /usr/local/lib/python3.10/dist-packages (from keras-tuner) (2.32.3)\n",
            "Collecting kt-legacy (from keras-tuner)\n",
            "  Downloading kt_legacy-1.0.5-py3-none-any.whl.metadata (221 bytes)\n",
            "Requirement already satisfied: absl-py in /usr/local/lib/python3.10/dist-packages (from keras->keras-tuner) (1.4.0)\n",
            "Requirement already satisfied: numpy in /usr/local/lib/python3.10/dist-packages (from keras->keras-tuner) (1.26.4)\n",
            "Requirement already satisfied: rich in /usr/local/lib/python3.10/dist-packages (from keras->keras-tuner) (13.9.4)\n",
            "Requirement already satisfied: namex in /usr/local/lib/python3.10/dist-packages (from keras->keras-tuner) (0.0.8)\n",
            "Requirement already satisfied: h5py in /usr/local/lib/python3.10/dist-packages (from keras->keras-tuner) (3.12.1)\n",
            "Requirement already satisfied: optree in /usr/local/lib/python3.10/dist-packages (from keras->keras-tuner) (0.13.1)\n",
            "Requirement already satisfied: ml-dtypes in /usr/local/lib/python3.10/dist-packages (from keras->keras-tuner) (0.4.1)\n",
            "Requirement already satisfied: charset-normalizer<4,>=2 in /usr/local/lib/python3.10/dist-packages (from requests->keras-tuner) (3.4.0)\n",
            "Requirement already satisfied: idna<4,>=2.5 in /usr/local/lib/python3.10/dist-packages (from requests->keras-tuner) (3.10)\n",
            "Requirement already satisfied: urllib3<3,>=1.21.1 in /usr/local/lib/python3.10/dist-packages (from requests->keras-tuner) (2.2.3)\n",
            "Requirement already satisfied: certifi>=2017.4.17 in /usr/local/lib/python3.10/dist-packages (from requests->keras-tuner) (2024.8.30)\n",
            "Requirement already satisfied: typing-extensions>=4.5.0 in /usr/local/lib/python3.10/dist-packages (from optree->keras->keras-tuner) (4.12.2)\n",
            "Requirement already satisfied: markdown-it-py>=2.2.0 in /usr/local/lib/python3.10/dist-packages (from rich->keras->keras-tuner) (3.0.0)\n",
            "Requirement already satisfied: pygments<3.0.0,>=2.13.0 in /usr/local/lib/python3.10/dist-packages (from rich->keras->keras-tuner) (2.18.0)\n",
            "Requirement already satisfied: mdurl~=0.1 in /usr/local/lib/python3.10/dist-packages (from markdown-it-py>=2.2.0->rich->keras->keras-tuner) (0.1.2)\n",
            "Downloading keras_tuner-1.4.7-py3-none-any.whl (129 kB)\n",
            "\u001b[2K   \u001b[90m━━━━━━━━━━━━━━━━━━━━━━━━━━━━━━━━━━━━━━━━\u001b[0m \u001b[32m129.1/129.1 kB\u001b[0m \u001b[31m2.0 MB/s\u001b[0m eta \u001b[36m0:00:00\u001b[0m\n",
            "\u001b[?25hDownloading kt_legacy-1.0.5-py3-none-any.whl (9.6 kB)\n",
            "Installing collected packages: kt-legacy, keras-tuner\n",
            "Successfully installed keras-tuner-1.4.7 kt-legacy-1.0.5\n"
          ]
        }
      ]
    },
    {
      "cell_type": "code",
      "execution_count": null,
      "id": "320cf3d7-0508-4269-8a1a-bf4b5ee7db96",
      "metadata": {
        "id": "320cf3d7-0508-4269-8a1a-bf4b5ee7db96"
      },
      "outputs": [],
      "source": [
        "import pandas as pd\n",
        "import numpy as np\n",
        "import re\n",
        "from sklearn.feature_extraction.text import TfidfVectorizer\n",
        "from sklearn.model_selection import train_test_split\n",
        "from sklearn.preprocessing import MinMaxScaler\n",
        "import tensorflow as tf\n",
        "from tensorflow.keras.models import Sequential\n",
        "from tensorflow.keras.layers import Input, Dense, Dropout, BatchNormalization\n",
        "from tensorflow.keras.regularizers import l2\n",
        "from tensorflow.keras.callbacks import EarlyStopping, ReduceLROnPlateau, ModelCheckpoint\n",
        "import keras_tuner as kt"
      ]
    },
    {
      "cell_type": "markdown",
      "id": "796d50c0-a6e3-49db-8d2a-d87bf01a0621",
      "metadata": {
        "id": "796d50c0-a6e3-49db-8d2a-d87bf01a0621"
      },
      "source": [
        "### LOAD DATASET"
      ]
    },
    {
      "cell_type": "code",
      "source": [
        "from google.colab import drive\n",
        "drive.mount('/content/drive')"
      ],
      "metadata": {
        "colab": {
          "base_uri": "https://localhost:8080/"
        },
        "id": "K1NSAvA8QqFN",
        "outputId": "1f4d6632-9485-4b55-95f8-e59f88b7e260"
      },
      "id": "K1NSAvA8QqFN",
      "execution_count": null,
      "outputs": [
        {
          "output_type": "stream",
          "name": "stdout",
          "text": [
            "Mounted at /content/drive\n"
          ]
        }
      ]
    },
    {
      "cell_type": "code",
      "execution_count": null,
      "id": "fb4eee13-cbc6-49ba-a836-b40993dd40a8",
      "metadata": {
        "id": "fb4eee13-cbc6-49ba-a836-b40993dd40a8"
      },
      "outputs": [],
      "source": [
        "# Dataset soal\n",
        "file_path='/content/drive/My Drive/Juliasmita/Bangkit2024/Capstone_Project/CodeyAPP/dataset/Python_Programming_Questions_Dataset_bersih.csv'\n",
        "data = pd.read_csv(file_path)\n",
        "\n",
        "# Tukar Input dan Output\n",
        "data['Corrected_Input'] = data['Output']\n",
        "data['Corrected_Output'] = data['Input']\n",
        "data['text'] = data['Instruction'] + \" \" + data['Corrected_Input'] + \" \" + data['Corrected_Output']\n",
        "\n",
        "# Menambah kolom materi\n",
        "def categorize_question(Instruction):\n",
        "    if re.search(r'\\b(print|hello world|basic)\\b', Instruction, re.IGNORECASE):\n",
        "        return 'Introduction Python'\n",
        "    elif re.search(r'\\b(\\+|\\-|\\*|\\/|\\%|\\*\\*|==|!=|<|>|<=|>=|=)\\b', Instruction):\n",
        "        return 'Operator'\n",
        "    elif re.search(r'\\b(int|float|string|bool|type)\\b', Instruction, re.IGNORECASE):\n",
        "        return 'Data Type'\n",
        "    elif re.search(r'\\b(list|tuple|dict|set|array)\\b', Instruction, re.IGNORECASE):\n",
        "        return 'Data Structure'\n",
        "    elif re.search(r'\\b(if|else|while|for|break|continue)\\b', Instruction, re.IGNORECASE):\n",
        "        return 'Control Structure'\n",
        "    elif re.search(r'\\b(def|function|return)\\b', Instruction, re.IGNORECASE):\n",
        "        return 'Function'\n",
        "    elif re.search(r'\\b(class|object|inheritance|method|self)\\b', Instruction, re.IGNORECASE):\n",
        "        return 'OOP'\n",
        "    else:\n",
        "        return 'Lainnya'\n",
        "\n",
        "# Menerapkan pada dataset\n",
        "data['materi'] = data['Instruction'].apply(categorize_question)\n",
        "\n",
        "# Menambahkan kolom ID soal\n",
        "data['question_id'] = data.index\n",
        "\n",
        "# Dataset dummy interaksi user\n",
        "interaction_data = {\n",
        "    'user_id': [1, 1, 2, 2, 3, 3, 3],\n",
        "    'question_id': [0, 1, 1, 2, 2, 3, 4],\n",
        "    'attempts': [3, 2, 4, 1, 3, 2, 1],\n",
        "    'correct': [1, 0, 1, 1, 1, 0, 1],\n",
        "    'duration': [30, 45, 60, 35, 50, 20, 25]\n",
        "}\n",
        "interaction_df = pd.DataFrame(interaction_data)\n",
        "\n",
        "# Menggabungkan interaksi dengan soal\n",
        "interaction_df = interaction_df.merge(data[['question_id', 'materi']], on='question_id', how='left')"
      ]
    },
    {
      "cell_type": "markdown",
      "id": "70c329ee-5ed2-442d-8160-44838a3ea285",
      "metadata": {
        "id": "70c329ee-5ed2-442d-8160-44838a3ea285"
      },
      "source": [
        "### PREPROCESSING DATA"
      ]
    },
    {
      "cell_type": "code",
      "execution_count": null,
      "id": "354ce67c-67d8-47f9-bae5-dec56a6116f4",
      "metadata": {
        "scrolled": true,
        "id": "354ce67c-67d8-47f9-bae5-dec56a6116f4",
        "outputId": "605e4ea5-1616-45cb-c330-efb5bf7a2b72",
        "colab": {
          "base_uri": "https://localhost:8080/"
        }
      },
      "outputs": [
        {
          "output_type": "stream",
          "name": "stdout",
          "text": [
            "   question_id  attempts  correct  duration  avg_error_rate\n",
            "0            0       3.0      1.0      30.0             0.0\n",
            "1            1       3.0      0.5      52.5             0.5\n",
            "2            2       2.0      1.0      42.5             0.0\n",
            "3            3       2.0      0.0      20.0             1.0\n",
            "4            4       1.0      1.0      25.0             0.0\n"
          ]
        }
      ],
      "source": [
        "# Fitur interaksi user\n",
        "error_data = interaction_df.groupby('question_id').agg({\n",
        "    'attempts': 'mean',\n",
        "    'correct': 'mean',\n",
        "    'duration': 'mean'\n",
        "}).reset_index()\n",
        "\n",
        "# Hitung kesalahan per materi\n",
        "error_data['avg_error_rate'] = 1 - error_data['correct']\n",
        "print(error_data)\n",
        "\n",
        "# Representasi TF-IDF untuk teks\n",
        "tfidf = TfidfVectorizer(max_features=2000)\n",
        "tfidf_matrix = tfidf.fit_transform(data['text']).toarray()\n",
        "\n",
        "# Mendapatkan materi dengan kesalahan tertinggi\n",
        "top_error_materis = error_data.sort_values(by='avg_error_rate', ascending=False).head(5)\n",
        "\n",
        "# Menggabungkan fitur TF-IDF dengan kolom materi\n",
        "features = pd.DataFrame(tfidf_matrix)\n",
        "\n",
        "# Menambahkan kolom 'materi' ke dalam fitur\n",
        "features['materi'] = data['materi']\n",
        "\n",
        "# Encode target materi\n",
        "data['target'] = data['materi'].astype('category').cat.codes\n",
        "num_classes = len(data['target'].unique())\n",
        "\n",
        "# Split data menjadi train dan test\n",
        "X_train, X_test, y_train, y_test = train_test_split(features.drop('materi', axis=1), data['target'], test_size=0.2, random_state=42)\n",
        "\n",
        "# One-hot encoding untuk target\n",
        "y_train = tf.keras.utils.to_categorical(y_train, num_classes=num_classes)\n",
        "y_test = tf.keras.utils.to_categorical(y_test, num_classes=num_classes)"
      ]
    },
    {
      "cell_type": "markdown",
      "id": "2a990c72-53f6-4499-81cc-7fb1a8dcc32c",
      "metadata": {
        "id": "2a990c72-53f6-4499-81cc-7fb1a8dcc32c"
      },
      "source": [
        "\n",
        "### MEMBANGUN MODEL\n"
      ]
    },
    {
      "cell_type": "code",
      "execution_count": null,
      "id": "0fa54690-32f0-4fbf-9c97-05d8fa80e860",
      "metadata": {
        "id": "0fa54690-32f0-4fbf-9c97-05d8fa80e860"
      },
      "outputs": [],
      "source": [
        "def build_model(hp):\n",
        "    model = tf.keras.Sequential()\n",
        "    model.add(Input(shape=(X_train.shape[1],)))\n",
        "    model.add(Dense(256, activation='relu', kernel_regularizer=l2(0.001)))\n",
        "    model.add(Dropout(0.4))\n",
        "    model.add(BatchNormalization())\n",
        "    model.add(Dense(128, activation='relu', kernel_regularizer=l2(0.001)))\n",
        "    model.add(Dropout(0.4))\n",
        "    model.add(BatchNormalization())\n",
        "    model.add(Dense(64, activation='relu', kernel_regularizer=l2(0.001)))\n",
        "    model.add(Dropout(0.4))\n",
        "    model.add(BatchNormalization())\n",
        "    model.add(Dense(y_train.shape[1], activation='softmax'))\n",
        "\n",
        "    model.compile(\n",
        "        optimizer=tf.keras.optimizers.RMSprop(\n",
        "            learning_rate=hp.Choice('learning_rate', values=[1e-2, 1e-3, 1e-4])\n",
        "        ),\n",
        "        loss='categorical_crossentropy',\n",
        "        metrics=['accuracy']\n",
        "    )\n",
        "    return model"
      ]
    },
    {
      "cell_type": "code",
      "execution_count": null,
      "id": "0b4e685e-52eb-48a6-9131-8691938994c6",
      "metadata": {
        "id": "0b4e685e-52eb-48a6-9131-8691938994c6",
        "outputId": "f414824b-f88f-40fd-d980-c86cc2ba4f88",
        "colab": {
          "base_uri": "https://localhost:8080/"
        }
      },
      "outputs": [
        {
          "output_type": "stream",
          "name": "stdout",
          "text": [
            "Trial 3 Complete [00h 01m 59s]\n",
            "val_accuracy: 0.732142835855484\n",
            "\n",
            "Best val_accuracy So Far: 0.8134920597076416\n",
            "Total elapsed time: 00h 04m 43s\n"
          ]
        }
      ],
      "source": [
        "# Hyperparameter tuning\n",
        "tuner = kt.RandomSearch(\n",
        "    build_model,\n",
        "    objective='val_accuracy',\n",
        "    max_trials=10,\n",
        "    executions_per_trial=2,\n",
        "    directory='model_tuning',\n",
        "    project_name='CodeyApp_recommendation_system'\n",
        ")\n",
        "\n",
        "\n",
        "# pencarian hyperparameter\n",
        "tuner.search(X_train, y_train, epochs=20, validation_data=(X_test, y_test),\n",
        "             callbacks=[EarlyStopping(monitor='val_loss', patience=3)])\n",
        "\n",
        "# Mendapatkan hyperparameter yang bagus\n",
        "best_hps = tuner.get_best_hyperparameters(num_trials=1)[0]\n",
        "model = tuner.hypermodel.build(best_hps)"
      ]
    },
    {
      "cell_type": "markdown",
      "id": "bc7995b1-6748-40a7-914b-07c80df10934",
      "metadata": {
        "id": "bc7995b1-6748-40a7-914b-07c80df10934"
      },
      "source": [
        "### TRAIN MODEL"
      ]
    },
    {
      "cell_type": "code",
      "execution_count": null,
      "id": "5766b47e-91fb-4f78-bc69-a67f43428877",
      "metadata": {
        "id": "5766b47e-91fb-4f78-bc69-a67f43428877",
        "outputId": "6e0a2378-e95b-440f-bb33-e1d3bbee88ba",
        "colab": {
          "base_uri": "https://localhost:8080/"
        }
      },
      "outputs": [
        {
          "output_type": "stream",
          "name": "stdout",
          "text": [
            "Epoch 1/50\n",
            "\u001b[1m188/189\u001b[0m \u001b[32m━━━━━━━━━━━━━━━━━━━\u001b[0m\u001b[37m━\u001b[0m \u001b[1m0s\u001b[0m 17ms/step - accuracy: 0.2700 - loss: 2.8096\n",
            "Epoch 1: val_loss improved from inf to 2.04682, saving model to best_model.keras\n",
            "\u001b[1m189/189\u001b[0m \u001b[32m━━━━━━━━━━━━━━━━━━━━\u001b[0m\u001b[37m\u001b[0m \u001b[1m9s\u001b[0m 22ms/step - accuracy: 0.2713 - loss: 2.8051 - val_accuracy: 0.5807 - val_loss: 2.0468 - learning_rate: 0.0010\n",
            "Epoch 2/50\n",
            "\u001b[1m188/189\u001b[0m \u001b[32m━━━━━━━━━━━━━━━━━━━\u001b[0m\u001b[37m━\u001b[0m \u001b[1m0s\u001b[0m 23ms/step - accuracy: 0.6239 - loss: 1.6512\n",
            "Epoch 2: val_loss improved from 2.04682 to 1.60931, saving model to best_model.keras\n",
            "\u001b[1m189/189\u001b[0m \u001b[32m━━━━━━━━━━━━━━━━━━━━\u001b[0m\u001b[37m\u001b[0m \u001b[1m6s\u001b[0m 25ms/step - accuracy: 0.6240 - loss: 1.6507 - val_accuracy: 0.6594 - val_loss: 1.6093 - learning_rate: 0.0010\n",
            "Epoch 3/50\n",
            "\u001b[1m186/189\u001b[0m \u001b[32m━━━━━━━━━━━━━━━━━━━\u001b[0m\u001b[37m━\u001b[0m \u001b[1m0s\u001b[0m 10ms/step - accuracy: 0.6825 - loss: 1.3958\n",
            "Epoch 3: val_loss improved from 1.60931 to 1.26223, saving model to best_model.keras\n",
            "\u001b[1m189/189\u001b[0m \u001b[32m━━━━━━━━━━━━━━━━━━━━\u001b[0m\u001b[37m\u001b[0m \u001b[1m3s\u001b[0m 12ms/step - accuracy: 0.6826 - loss: 1.3953 - val_accuracy: 0.6984 - val_loss: 1.2622 - learning_rate: 0.0010\n",
            "Epoch 4/50\n",
            "\u001b[1m189/189\u001b[0m \u001b[32m━━━━━━━━━━━━━━━━━━━━\u001b[0m\u001b[37m\u001b[0m \u001b[1m0s\u001b[0m 9ms/step - accuracy: 0.7019 - loss: 1.2653\n",
            "Epoch 4: val_loss improved from 1.26223 to 1.09745, saving model to best_model.keras\n",
            "\u001b[1m189/189\u001b[0m \u001b[32m━━━━━━━━━━━━━━━━━━━━\u001b[0m\u001b[37m\u001b[0m \u001b[1m2s\u001b[0m 10ms/step - accuracy: 0.7019 - loss: 1.2650 - val_accuracy: 0.7599 - val_loss: 1.0975 - learning_rate: 0.0010\n",
            "Epoch 5/50\n",
            "\u001b[1m187/189\u001b[0m \u001b[32m━━━━━━━━━━━━━━━━━━━\u001b[0m\u001b[37m━\u001b[0m \u001b[1m0s\u001b[0m 9ms/step - accuracy: 0.7508 - loss: 1.0995\n",
            "Epoch 5: val_loss improved from 1.09745 to 1.02396, saving model to best_model.keras\n",
            "\u001b[1m189/189\u001b[0m \u001b[32m━━━━━━━━━━━━━━━━━━━━\u001b[0m\u001b[37m\u001b[0m \u001b[1m2s\u001b[0m 10ms/step - accuracy: 0.7508 - loss: 1.0995 - val_accuracy: 0.7718 - val_loss: 1.0240 - learning_rate: 0.0010\n",
            "Epoch 6/50\n",
            "\u001b[1m187/189\u001b[0m \u001b[32m━━━━━━━━━━━━━━━━━━━\u001b[0m\u001b[37m━\u001b[0m \u001b[1m0s\u001b[0m 9ms/step - accuracy: 0.7789 - loss: 0.9889\n",
            "Epoch 6: val_loss improved from 1.02396 to 0.96766, saving model to best_model.keras\n",
            "\u001b[1m189/189\u001b[0m \u001b[32m━━━━━━━━━━━━━━━━━━━━\u001b[0m\u001b[37m\u001b[0m \u001b[1m2s\u001b[0m 11ms/step - accuracy: 0.7787 - loss: 0.9891 - val_accuracy: 0.7798 - val_loss: 0.9677 - learning_rate: 0.0010\n",
            "Epoch 7/50\n",
            "\u001b[1m188/189\u001b[0m \u001b[32m━━━━━━━━━━━━━━━━━━━\u001b[0m\u001b[37m━\u001b[0m \u001b[1m0s\u001b[0m 9ms/step - accuracy: 0.7756 - loss: 0.9424\n",
            "Epoch 7: val_loss improved from 0.96766 to 0.93859, saving model to best_model.keras\n",
            "\u001b[1m189/189\u001b[0m \u001b[32m━━━━━━━━━━━━━━━━━━━━\u001b[0m\u001b[37m\u001b[0m \u001b[1m2s\u001b[0m 10ms/step - accuracy: 0.7757 - loss: 0.9425 - val_accuracy: 0.7765 - val_loss: 0.9386 - learning_rate: 0.0010\n",
            "Epoch 8/50\n",
            "\u001b[1m186/189\u001b[0m \u001b[32m━━━━━━━━━━━━━━━━━━━\u001b[0m\u001b[37m━\u001b[0m \u001b[1m0s\u001b[0m 14ms/step - accuracy: 0.7981 - loss: 0.8465\n",
            "Epoch 8: val_loss improved from 0.93859 to 0.90461, saving model to best_model.keras\n",
            "\u001b[1m189/189\u001b[0m \u001b[32m━━━━━━━━━━━━━━━━━━━━\u001b[0m\u001b[37m\u001b[0m \u001b[1m4s\u001b[0m 16ms/step - accuracy: 0.7980 - loss: 0.8469 - val_accuracy: 0.7930 - val_loss: 0.9046 - learning_rate: 0.0010\n",
            "Epoch 9/50\n",
            "\u001b[1m188/189\u001b[0m \u001b[32m━━━━━━━━━━━━━━━━━━━\u001b[0m\u001b[37m━\u001b[0m \u001b[1m0s\u001b[0m 11ms/step - accuracy: 0.8125 - loss: 0.8151\n",
            "Epoch 9: val_loss improved from 0.90461 to 0.88438, saving model to best_model.keras\n",
            "\u001b[1m189/189\u001b[0m \u001b[32m━━━━━━━━━━━━━━━━━━━━\u001b[0m\u001b[37m\u001b[0m \u001b[1m2s\u001b[0m 12ms/step - accuracy: 0.8125 - loss: 0.8151 - val_accuracy: 0.7923 - val_loss: 0.8844 - learning_rate: 0.0010\n",
            "Epoch 10/50\n",
            "\u001b[1m188/189\u001b[0m \u001b[32m━━━━━━━━━━━━━━━━━━━\u001b[0m\u001b[37m━\u001b[0m \u001b[1m0s\u001b[0m 9ms/step - accuracy: 0.8194 - loss: 0.7685 \n",
            "Epoch 10: val_loss improved from 0.88438 to 0.86566, saving model to best_model.keras\n",
            "\u001b[1m189/189\u001b[0m \u001b[32m━━━━━━━━━━━━━━━━━━━━\u001b[0m\u001b[37m\u001b[0m \u001b[1m2s\u001b[0m 11ms/step - accuracy: 0.8194 - loss: 0.7687 - val_accuracy: 0.7937 - val_loss: 0.8657 - learning_rate: 0.0010\n",
            "Epoch 11/50\n",
            "\u001b[1m189/189\u001b[0m \u001b[32m━━━━━━━━━━━━━━━━━━━━\u001b[0m\u001b[37m\u001b[0m \u001b[1m0s\u001b[0m 9ms/step - accuracy: 0.8368 - loss: 0.7161\n",
            "Epoch 11: val_loss did not improve from 0.86566\n",
            "\u001b[1m189/189\u001b[0m \u001b[32m━━━━━━━━━━━━━━━━━━━━\u001b[0m\u001b[37m\u001b[0m \u001b[1m2s\u001b[0m 10ms/step - accuracy: 0.8367 - loss: 0.7162 - val_accuracy: 0.8016 - val_loss: 0.8724 - learning_rate: 0.0010\n",
            "Epoch 12/50\n",
            "\u001b[1m186/189\u001b[0m \u001b[32m━━━━━━━━━━━━━━━━━━━\u001b[0m\u001b[37m━\u001b[0m \u001b[1m0s\u001b[0m 10ms/step - accuracy: 0.8400 - loss: 0.6997\n",
            "Epoch 12: val_loss improved from 0.86566 to 0.83409, saving model to best_model.keras\n",
            "\u001b[1m189/189\u001b[0m \u001b[32m━━━━━━━━━━━━━━━━━━━━\u001b[0m\u001b[37m\u001b[0m \u001b[1m2s\u001b[0m 11ms/step - accuracy: 0.8398 - loss: 0.7004 - val_accuracy: 0.8095 - val_loss: 0.8341 - learning_rate: 0.0010\n",
            "Epoch 13/50\n",
            "\u001b[1m184/189\u001b[0m \u001b[32m━━━━━━━━━━━━━━━━━━━\u001b[0m\u001b[37m━\u001b[0m \u001b[1m0s\u001b[0m 9ms/step - accuracy: 0.8466 - loss: 0.6596\n",
            "Epoch 13: val_loss did not improve from 0.83409\n",
            "\u001b[1m189/189\u001b[0m \u001b[32m━━━━━━━━━━━━━━━━━━━━\u001b[0m\u001b[37m\u001b[0m \u001b[1m2s\u001b[0m 10ms/step - accuracy: 0.8464 - loss: 0.6604 - val_accuracy: 0.8108 - val_loss: 0.8446 - learning_rate: 0.0010\n",
            "Epoch 14/50\n",
            "\u001b[1m187/189\u001b[0m \u001b[32m━━━━━━━━━━━━━━━━━━━\u001b[0m\u001b[37m━\u001b[0m \u001b[1m0s\u001b[0m 15ms/step - accuracy: 0.8560 - loss: 0.6421\n",
            "Epoch 14: val_loss did not improve from 0.83409\n",
            "\u001b[1m189/189\u001b[0m \u001b[32m━━━━━━━━━━━━━━━━━━━━\u001b[0m\u001b[37m\u001b[0m \u001b[1m3s\u001b[0m 16ms/step - accuracy: 0.8557 - loss: 0.6429 - val_accuracy: 0.8102 - val_loss: 0.8449 - learning_rate: 0.0010\n",
            "Epoch 15/50\n",
            "\u001b[1m187/189\u001b[0m \u001b[32m━━━━━━━━━━━━━━━━━━━\u001b[0m\u001b[37m━\u001b[0m \u001b[1m0s\u001b[0m 14ms/step - accuracy: 0.8724 - loss: 0.5800\n",
            "Epoch 15: ReduceLROnPlateau reducing learning rate to 0.0005000000237487257.\n",
            "\n",
            "Epoch 15: val_loss did not improve from 0.83409\n",
            "\u001b[1m189/189\u001b[0m \u001b[32m━━━━━━━━━━━━━━━━━━━━\u001b[0m\u001b[37m\u001b[0m \u001b[1m3s\u001b[0m 15ms/step - accuracy: 0.8721 - loss: 0.5808 - val_accuracy: 0.8022 - val_loss: 0.8379 - learning_rate: 0.0010\n",
            "Epoch 16/50\n",
            "\u001b[1m186/189\u001b[0m \u001b[32m━━━━━━━━━━━━━━━━━━━\u001b[0m\u001b[37m━\u001b[0m \u001b[1m0s\u001b[0m 10ms/step - accuracy: 0.8753 - loss: 0.5692\n",
            "Epoch 16: val_loss improved from 0.83409 to 0.80587, saving model to best_model.keras\n",
            "\u001b[1m189/189\u001b[0m \u001b[32m━━━━━━━━━━━━━━━━━━━━\u001b[0m\u001b[37m\u001b[0m \u001b[1m4s\u001b[0m 11ms/step - accuracy: 0.8753 - loss: 0.5692 - val_accuracy: 0.8128 - val_loss: 0.8059 - learning_rate: 5.0000e-04\n",
            "Epoch 17/50\n",
            "\u001b[1m189/189\u001b[0m \u001b[32m━━━━━━━━━━━━━━━━━━━━\u001b[0m\u001b[37m\u001b[0m \u001b[1m0s\u001b[0m 9ms/step - accuracy: 0.8906 - loss: 0.5027\n",
            "Epoch 17: val_loss improved from 0.80587 to 0.80192, saving model to best_model.keras\n",
            "\u001b[1m189/189\u001b[0m \u001b[32m━━━━━━━━━━━━━━━━━━━━\u001b[0m\u001b[37m\u001b[0m \u001b[1m2s\u001b[0m 11ms/step - accuracy: 0.8905 - loss: 0.5028 - val_accuracy: 0.8069 - val_loss: 0.8019 - learning_rate: 5.0000e-04\n",
            "Epoch 18/50\n",
            "\u001b[1m185/189\u001b[0m \u001b[32m━━━━━━━━━━━━━━━━━━━\u001b[0m\u001b[37m━\u001b[0m \u001b[1m0s\u001b[0m 9ms/step - accuracy: 0.8908 - loss: 0.5114\n",
            "Epoch 18: val_loss did not improve from 0.80192\n",
            "\u001b[1m189/189\u001b[0m \u001b[32m━━━━━━━━━━━━━━━━━━━━\u001b[0m\u001b[37m\u001b[0m \u001b[1m2s\u001b[0m 10ms/step - accuracy: 0.8907 - loss: 0.5115 - val_accuracy: 0.8089 - val_loss: 0.8125 - learning_rate: 5.0000e-04\n",
            "Epoch 19/50\n",
            "\u001b[1m188/189\u001b[0m \u001b[32m━━━━━━━━━━━━━━━━━━━\u001b[0m\u001b[37m━\u001b[0m \u001b[1m0s\u001b[0m 12ms/step - accuracy: 0.9021 - loss: 0.4604\n",
            "Epoch 19: val_loss did not improve from 0.80192\n",
            "\u001b[1m189/189\u001b[0m \u001b[32m━━━━━━━━━━━━━━━━━━━━\u001b[0m\u001b[37m\u001b[0m \u001b[1m2s\u001b[0m 13ms/step - accuracy: 0.9020 - loss: 0.4608 - val_accuracy: 0.8122 - val_loss: 0.8153 - learning_rate: 5.0000e-04\n",
            "Epoch 20/50\n",
            "\u001b[1m189/189\u001b[0m \u001b[32m━━━━━━━━━━━━━━━━━━━━\u001b[0m\u001b[37m\u001b[0m \u001b[1m0s\u001b[0m 15ms/step - accuracy: 0.9065 - loss: 0.4668\n",
            "Epoch 20: ReduceLROnPlateau reducing learning rate to 0.0002500000118743628.\n",
            "\n",
            "Epoch 20: val_loss did not improve from 0.80192\n",
            "\u001b[1m189/189\u001b[0m \u001b[32m━━━━━━━━━━━━━━━━━━━━\u001b[0m\u001b[37m\u001b[0m \u001b[1m3s\u001b[0m 16ms/step - accuracy: 0.9064 - loss: 0.4669 - val_accuracy: 0.8082 - val_loss: 0.8331 - learning_rate: 5.0000e-04\n",
            "Epoch 21/50\n",
            "\u001b[1m189/189\u001b[0m \u001b[32m━━━━━━━━━━━━━━━━━━━━\u001b[0m\u001b[37m\u001b[0m \u001b[1m0s\u001b[0m 12ms/step - accuracy: 0.9072 - loss: 0.4369\n",
            "Epoch 21: val_loss did not improve from 0.80192\n",
            "\u001b[1m189/189\u001b[0m \u001b[32m━━━━━━━━━━━━━━━━━━━━\u001b[0m\u001b[37m\u001b[0m \u001b[1m2s\u001b[0m 13ms/step - accuracy: 0.9072 - loss: 0.4369 - val_accuracy: 0.8095 - val_loss: 0.8136 - learning_rate: 2.5000e-04\n",
            "Epoch 22/50\n",
            "\u001b[1m185/189\u001b[0m \u001b[32m━━━━━━━━━━━━━━━━━━━\u001b[0m\u001b[37m━\u001b[0m \u001b[1m0s\u001b[0m 9ms/step - accuracy: 0.9184 - loss: 0.3823\n",
            "Epoch 22: val_loss did not improve from 0.80192\n",
            "\u001b[1m189/189\u001b[0m \u001b[32m━━━━━━━━━━━━━━━━━━━━\u001b[0m\u001b[37m\u001b[0m \u001b[1m2s\u001b[0m 10ms/step - accuracy: 0.9183 - loss: 0.3828 - val_accuracy: 0.8089 - val_loss: 0.8273 - learning_rate: 2.5000e-04\n"
          ]
        }
      ],
      "source": [
        "# Callbacks\n",
        "callbacks = [\n",
        "    EarlyStopping(monitor='val_loss', patience=5, restore_best_weights=True),\n",
        "    ReduceLROnPlateau(monitor='val_loss', factor=0.5, patience=3, min_lr=1e-6, verbose=1),\n",
        "    ModelCheckpoint('best_model.keras', save_best_only=True, monitor='val_loss', verbose=1)\n",
        "]\n",
        "\n",
        "# Training model\n",
        "history = model.fit(\n",
        "    X_train, y_train,\n",
        "    epochs=50,\n",
        "    batch_size=32,\n",
        "    validation_data=(X_test, y_test),\n",
        "    callbacks=callbacks\n",
        ")"
      ]
    },
    {
      "cell_type": "code",
      "execution_count": null,
      "id": "34620679-42c3-47c9-b359-19555f90a069",
      "metadata": {
        "id": "34620679-42c3-47c9-b359-19555f90a069",
        "outputId": "2560f30c-4fa8-46f5-b508-bad81cfc4b6c",
        "colab": {
          "base_uri": "https://localhost:8080/"
        }
      },
      "outputs": [
        {
          "output_type": "stream",
          "name": "stdout",
          "text": [
            "\u001b[1m48/48\u001b[0m \u001b[32m━━━━━━━━━━━━━━━━━━━━\u001b[0m\u001b[37m\u001b[0m \u001b[1m1s\u001b[0m 6ms/step - accuracy: 0.8200 - loss: 0.7546\n",
            "Test Loss: 0.8019192814826965\n",
            "Test Accuracy: 0.8068783283233643\n"
          ]
        }
      ],
      "source": [
        "# Load best model yang tersimpan\n",
        "model = tf.keras.models.load_model('best_model.keras')\n",
        "\n",
        "# Evaluate model\n",
        "loss, accuracy = model.evaluate(X_test, y_test)\n",
        "print(f\"Test Loss: {loss}\")\n",
        "print(f\"Test Accuracy: {accuracy}\")"
      ]
    },
    {
      "cell_type": "markdown",
      "id": "cc153439-080e-495f-ab10-c19e19162386",
      "metadata": {
        "id": "cc153439-080e-495f-ab10-c19e19162386"
      },
      "source": [
        "### PLOTTING"
      ]
    },
    {
      "cell_type": "code",
      "execution_count": null,
      "id": "75965865-c22d-4d53-b778-600c733823ac",
      "metadata": {
        "id": "75965865-c22d-4d53-b778-600c733823ac",
        "outputId": "2fad1361-a89c-499b-e61f-d66f41222090",
        "colab": {
          "base_uri": "https://localhost:8080/",
          "height": 887
        }
      },
      "outputs": [
        {
          "output_type": "display_data",
          "data": {
            "text/plain": [
              "<Figure size 640x480 with 1 Axes>"
            ],
            "image/png": "[encoded data removed]"
          },
          "metadata": {}
        },
        {
          "output_type": "display_data",
          "data": {
            "text/plain": [
              "<Figure size 640x480 with 1 Axes>"
            ],
            "image/png": "[encoded data removed]"
          },
          "metadata": {}
        }
      ],
      "source": [
        "import matplotlib.pyplot as plt\n",
        "\n",
        "# Plot accuracy\n",
        "plt.plot(history.history['accuracy'], label='Training Accuracy')\n",
        "plt.plot(history.history['val_accuracy'], label='Validation Accuracy')\n",
        "plt.legend()\n",
        "plt.title('Accuracy')\n",
        "plt.show()\n",
        "\n",
        "# Plot loss\n",
        "plt.plot(history.history['loss'], label='Training Loss')\n",
        "plt.plot(history.history['val_loss'], label='Validation Loss')\n",
        "plt.legend()\n",
        "plt.title('Loss')\n",
        "plt.show()\n"
      ]
    },
    {
      "cell_type": "markdown",
      "id": "598ea036-c2bb-4741-9cd1-9f8080de16da",
      "metadata": {
        "id": "598ea036-c2bb-4741-9cd1-9f8080de16da"
      },
      "source": [
        "### MEMBANGUN REKOMENDASI"
      ]
    },
    {
      "cell_type": "code",
      "execution_count": null,
      "id": "48c647f5-f8dd-4c02-b02a-4b9417b97c53",
      "metadata": {
        "id": "48c647f5-f8dd-4c02-b02a-4b9417b97c53",
        "outputId": "f38d0844-fb8c-406b-891f-ee972e5f79f0",
        "colab": {
          "base_uri": "https://localhost:8080/"
        }
      },
      "outputs": [
        {
          "output_type": "stream",
          "name": "stdout",
          "text": [
            "Materi yang perlu dipelajari lebih lanjut (berdasarkan kesalahan siswa):\n",
            "                materi  avg_error_rate\n",
            "0    Control Structure        1.000000\n",
            "1       Data Structure        0.166667\n",
            "2  Introduction Python        0.000000\n"
          ]
        }
      ],
      "source": [
        "# Menghitung rata-rata kesalahan per materi\n",
        "avg_error_per_materi = error_data.groupby(data['materi'])['avg_error_rate'].mean().reset_index()\n",
        "\n",
        "# Mengurutkan materi berdasarkan tingkat kesalahan tertinggi\n",
        "recommended_materials = avg_error_per_materi.sort_values(by='avg_error_rate', ascending=False)\n",
        "\n",
        "# Tampilkan 5 materi dengan tingkat kesalahan tertinggi\n",
        "print(\"Materi yang perlu dipelajari lebih lanjut (berdasarkan kesalahan siswa):\")\n",
        "print(recommended_materials.head())"
      ]
    },
    {
      "cell_type": "code",
      "execution_count": null,
      "id": "63c2712e-6d05-43e1-a7ce-f73ab36a06f9",
      "metadata": {
        "id": "63c2712e-6d05-43e1-a7ce-f73ab36a06f9",
        "outputId": "4b6694ab-9b79-4efb-e61e-a4f5c64ab9f0",
        "colab": {
          "base_uri": "https://localhost:8080/"
        }
      },
      "outputs": [
        {
          "output_type": "stream",
          "name": "stdout",
          "text": [
            "Materi yang perlu dipelajari oleh siswa:\n",
            "           materi  attempts  correct  duration  avg_error_rate\n",
            "1  Data Structure       3.0      0.0      60.0             1.0\n"
          ]
        }
      ],
      "source": [
        "# Misalnya, prediksi materi untuk user berdasarkan interaksi mereka\n",
        "# Data interaksi yang relevan\n",
        "user_interaction = {\n",
        "    'user_id': [4, 4, 4, 4],\n",
        "    'question_id': [0, 2, 3, 5],\n",
        "    'attempts': [3, 4, 2, 1],\n",
        "    'correct': [0, 0, 1, 0],\n",
        "    'duration': [60, 30, 35, 20]\n",
        "}\n",
        "\n",
        "user_interaction_df = pd.DataFrame(user_interaction)\n",
        "user_interaction_df = user_interaction_df.merge(data[['question_id', 'materi']], on='question_id', how='left')\n",
        "\n",
        "# Hitung rata-rata kesalahan per materi\n",
        "user_error_data = user_interaction_df.groupby('materi').agg({\n",
        "    'attempts': 'mean',\n",
        "    'correct': 'mean',\n",
        "    'duration': 'mean'\n",
        "}).reset_index()\n",
        "\n",
        "user_error_data['avg_error_rate'] = 1 - user_error_data['correct']\n",
        "\n",
        "# Rekomendasikan materi dengan kesalahan tertinggi\n",
        "user_recommended_materials = user_error_data.sort_values(by='avg_error_rate', ascending=False).head(1)\n",
        "print(\"Materi yang perlu dipelajari oleh siswa:\")\n",
        "print(user_recommended_materials)\n"
      ]
    },
    {
      "cell_type": "code",
      "execution_count": null,
      "id": "323cf8e4-2219-4506-84fc-bc1ffbd36d47",
      "metadata": {
        "id": "323cf8e4-2219-4506-84fc-bc1ffbd36d47"
      },
      "outputs": [],
      "source": [
        "model.save('best_model.keras')"
      ]
    },
    {
      "cell_type": "code",
      "execution_count": null,
      "id": "4599e13d-32f6-4c6f-8037-c03f3a8fb8bb",
      "metadata": {
        "id": "4599e13d-32f6-4c6f-8037-c03f3a8fb8bb"
      },
      "outputs": [],
      "source": [
        "model.save('/content/drive/My Drive/Juliasmita/Bangkit2024/Capstone_Project/CodeyAPP/best_model.keras')"
      ]
    }
  ],
  "metadata": {
    "kernelspec": {
      "display_name": "Python 3 (ipykernel)",
      "language": "python",
      "name": "python3"
    },
    "language_info": {
      "codemirror_mode": {
        "name": "ipython",
        "version": 3
      },
      "file_extension": ".py",
      "mimetype": "text/x-python",
      "name": "python",
      "nbconvert_exporter": "python",
      "pygments_lexer": "ipython3",
      "version": "3.12.1"
    },
    "colab": {
      "provenance": []
    }
  },
  "nbformat": 4,
  "nbformat_minor": 5
}